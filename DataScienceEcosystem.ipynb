{
 "cells": [
  {
   "cell_type": "markdown",
   "id": "83d44ceb",
   "metadata": {},
   "source": [
    "<h1>Data Science Tools and Ecosystem</h1>"
   ]
  },
  {
   "cell_type": "markdown",
   "id": "f57a6b33",
   "metadata": {},
   "source": [
    "In this notebook, Data Science Tools and Ecosystem are summarized."
   ]
  },
  {
   "cell_type": "markdown",
   "id": "586e6849",
   "metadata": {},
   "source": [
    "<b>Objectives:</b>\n",
    "\n",
    "<ul>\n",
    "    <li>To understand the popular languages used by Data Scientists.</li>\n",
    "    <li>To understand the libraries used by Data Scientists.</li>\n",
    "    <li>To understand Data Science Tools.</li>\n",
    "    <li>To solve few arithmetic expressions.</li>\n",
    "</ul>"
   ]
  },
  {
   "cell_type": "markdown",
   "id": "0aa05107",
   "metadata": {},
   "source": [
    "Some of the pupular languages used by Data Scientists are:\n",
    "1. Python\n",
    "2. R\n",
    "3. SQL\n",
    "4. Julia\n"
   ]
  },
  {
   "cell_type": "markdown",
   "id": "d4549f0b",
   "metadata": {},
   "source": [
    "Some commonly used libraries by Data Scientists are:\n",
    "1. Pandas\n",
    "2. Numpy\n",
    "3. Seaborn\n",
    "4. Matplotlib"
   ]
  },
  {
   "cell_type": "markdown",
   "id": "ab761c02",
   "metadata": {},
   "source": [
    "<table>\n",
    "    <tr>\n",
    "        <th>Data Science Tools</th>\n",
    "    </tr>\n",
    "    <tr>\n",
    "        <td>Jupyter Notebook</td>\n",
    "        </tr>\n",
    "    <tr>\n",
    "        <td>Visual Studio Code</td>\n",
    "        </tr>\n",
    "    <tr>\n",
    "        <td>Anaconda</td>\n",
    "        </tr>\n",
    "    <tr>\n",
    "        <td>Tableu</td>\n",
    "        </tr>\n",
    "    <tr>\n",
    "        <td>Apache Spark</td>\n",
    "        </tr>\n",
    "        "
   ]
  },
  {
   "cell_type": "markdown",
   "id": "604ecf0d",
   "metadata": {},
   "source": [
    "<h3>Below are a few examples of evaluating arithmetic expressions in Python.</h3>"
   ]
  },
  {
   "cell_type": "code",
   "execution_count": 3,
   "id": "2969f7e6",
   "metadata": {},
   "outputs": [
    {
     "data": {
      "text/plain": [
       "17"
      ]
     },
     "execution_count": 3,
     "metadata": {},
     "output_type": "execute_result"
    }
   ],
   "source": [
    "#This a simple arithmetic expression to mutiply then add integers\n",
    "(3*4)+5"
   ]
  },
  {
   "cell_type": "code",
   "execution_count": 6,
   "id": "a2e9c928",
   "metadata": {},
   "outputs": [
    {
     "data": {
      "text/plain": [
       "3.3333333333333335"
      ]
     },
     "execution_count": 6,
     "metadata": {},
     "output_type": "execute_result"
    }
   ],
   "source": [
    "#This will convert 200 minutes to hours by dividing by 60\n",
    "\n",
    "y = (200/60)\n",
    "y\n"
   ]
  },
  {
   "cell_type": "markdown",
   "id": "fae1eed4",
   "metadata": {},
   "source": [
    "<h2>Author</h2>\n",
    "Swastika Banskota"
   ]
  },
  {
   "cell_type": "code",
   "execution_count": null,
   "id": "82b500da",
   "metadata": {},
   "outputs": [],
   "source": []
  }
 ],
 "metadata": {
  "kernelspec": {
   "display_name": "Python 3 (ipykernel)",
   "language": "python",
   "name": "python3"
  },
  "language_info": {
   "codemirror_mode": {
    "name": "ipython",
    "version": 3
   },
   "file_extension": ".py",
   "mimetype": "text/x-python",
   "name": "python",
   "nbconvert_exporter": "python",
   "pygments_lexer": "ipython3",
   "version": "3.9.13"
  }
 },
 "nbformat": 4,
 "nbformat_minor": 5
}
